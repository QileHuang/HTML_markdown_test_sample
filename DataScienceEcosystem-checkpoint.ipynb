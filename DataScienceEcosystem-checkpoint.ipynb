{
 "cells": [
  {
   "cell_type": "markdown",
   "id": "8160ef54-13d6-49ff-bbbf-590913bd3361",
   "metadata": {},
   "source": [
    "# Data Science Tools and Ecosystem"
   ]
  },
  {
   "cell_type": "markdown",
   "id": "78ac4561-9b19-4194-bec4-42fd7b8bc46d",
   "metadata": {},
   "source": [
    "In this notebook, Data Science Tools and Ecosystem are summarized."
   ]
  },
  {
   "cell_type": "markdown",
   "id": "57daeefb-ad0e-44e6-9faa-dae5f86d88a5",
   "metadata": {},
   "source": [
    "Some of the popular languages that Data Scientists use are: \n",
    "1. Python\n",
    "2. R\n",
    "3. SQL"
   ]
  },
  {
   "cell_type": "markdown",
   "id": "6aa88de0-1c34-4a6c-977a-9a5538a57767",
   "metadata": {},
   "source": [
    "Some of the commonly used libraries used by Data Scientists include:\n",
    "1. numpy\n",
    "2. pandas\n",
    "3. scikit_learn"
   ]
  },
  {
   "cell_type": "markdown",
   "id": "b066ac12-c286-4b35-b992-9703a853b105",
   "metadata": {},
   "source": [
    "| Data Science Tools|\n",
    "|---------------|\n",
    "| Pycharm |\n",
    "| Rstudio |\n",
    "| Jupyter |"
   ]
  },
  {
   "cell_type": "markdown",
   "id": "21755d94-c04e-4ecd-bcfc-a242da36d602",
   "metadata": {},
   "source": [
    "Below are a few examples of evaluating arithmetic expressions in Python:\n",
    "### normalized_data = (data - min(data)) / (max(data) - min(data))"
   ]
  },
  {
   "cell_type": "markdown",
   "id": "74ec0a4e-0319-4f8e-8dc4-b222701a71d7",
   "metadata": {},
   "source": [
    "#This a simple arithmetic expression to mutiply then add integers\n",
    "print((3*4)+5)"
   ]
  },
  {
   "cell_type": "code",
   "execution_count": 7,
   "id": "0180683e-e4d8-460d-9bbf-d0e7212f7f7a",
   "metadata": {},
   "outputs": [
    {
     "name": "stdout",
     "output_type": "stream",
     "text": [
      "200 minutes = 3.3333333333333335hours\n"
     ]
    }
   ],
   "source": [
    "#This will convert 200 minutes to hours by diving by 60\n",
    "calc = 200/60\n",
    "conversion = \"200 minutes = \" + str(calc) + \"hours\"\n",
    "print(conversion)"
   ]
  },
  {
   "cell_type": "markdown",
   "id": "5b465f1b-9081-494d-86da-067220afc146",
   "metadata": {},
   "source": [
    "List popular languages for Data Science\n",
    "* Python\n",
    "* SQL\n",
    "* R\n",
    "* Scala"
   ]
  },
  {
   "cell_type": "markdown",
   "id": "e5bb2fd1-947c-4d03-b81b-3ffeab2834a3",
   "metadata": {},
   "source": [
    "## Author:Qile H."
   ]
  },
  {
   "cell_type": "code",
   "execution_count": null,
   "id": "69353bab-9368-4d0b-bec9-a60e95928f82",
   "metadata": {},
   "outputs": [],
   "source": []
  }
 ],
 "metadata": {
  "kernelspec": {
   "display_name": "Python 3 (ipykernel)",
   "language": "python",
   "name": "python3"
  },
  "language_info": {
   "codemirror_mode": {
    "name": "ipython",
    "version": 3
   },
   "file_extension": ".py",
   "mimetype": "text/x-python",
   "name": "python",
   "nbconvert_exporter": "python",
   "pygments_lexer": "ipython3",
   "version": "3.11.7"
  }
 },
 "nbformat": 4,
 "nbformat_minor": 5
}
